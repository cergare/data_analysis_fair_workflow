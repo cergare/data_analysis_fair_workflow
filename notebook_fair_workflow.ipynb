{
 "cells": [
  {
   "attachments": {},
   "cell_type": "markdown",
   "metadata": {},
   "source": [
    "# Introduction to biological data analysis\n",
    "\n",
    "## Make your code accessible\n",
    "\n",
    "Clone the [github repository metavannier/data_analysis_fair_workflow](https://github.com/metavannier/data_analysis_fair_workflow) on [Visual Studio](https://visualstudio.microsoft.com/fr/)\n",
    "```\n",
    "Ctrl + Shift + P\n",
    "\n",
    "Clone Git Repository -> https://github.com/metavannier/data_analysis_fair_workflow\n",
    "```"
   ]
  },
  {
   "attachments": {},
   "cell_type": "markdown",
   "metadata": {},
   "source": [
    "Run these Python command lines directly on this Jupyter notebook...does it work ? "
   ]
  },
  {
   "cell_type": "code",
   "execution_count": 1,
   "metadata": {
    "tags": []
   },
   "outputs": [],
   "source": [
    "import numpy as np\n",
    "def square(x):\n",
    "    return x * x"
   ]
  },
  {
   "cell_type": "code",
   "execution_count": 2,
   "metadata": {
    "tags": []
   },
   "outputs": [
    {
     "name": "stdout",
     "output_type": "stream",
     "text": [
      "8 squared is 64\n"
     ]
    }
   ],
   "source": [
    "x = np.random.randint(1, 10)\n",
    "y = square(x)\n",
    "print('%d squared is %d' % (x, y))"
   ]
  },
  {
   "attachments": {},
   "cell_type": "markdown",
   "metadata": {},
   "source": [
    "## Make your code reproductible\n",
    "\n",
    "Run the docker container of [jupyter/scipy-notebook](https://hub.docker.com/r/jupyter/scipy-notebook) with singularity to start the Kernel.\n",
    "\n",
    "```\n",
    "singularity run docker://jupyter/scipy-notebook\n",
    "```\n",
    "\n",
    "* Change kernel for 'notebook_fair_workflow.ipynb'\n",
    "\n",
    "* Select another kernel\n",
    "\n",
    "* Existing Jupyter Server -> copy/paste the URL\n",
    "\n",
    "\n",
    "=> Try running the above line of code.\n",
    "\n",
    "---\n",
    "\n",
    "Now try to run this code :"
   ]
  },
  {
   "cell_type": "code",
   "execution_count": 8,
   "metadata": {},
   "outputs": [
    {
     "name": "stdout",
     "output_type": "stream",
     "text": [
      "Hi! This is Python 3\n"
     ]
    }
   ],
   "source": [
    "def main():\n",
    "  print (\"Hi! This is Python 3\")\n",
    "  \n",
    "if __name__== \"__main__\":\n",
    "  main()"
   ]
  },
  {
   "cell_type": "code",
   "execution_count": 7,
   "metadata": {},
   "outputs": [
    {
     "ename": "SyntaxError",
     "evalue": "Missing parentheses in call to 'print'. Did you mean print(...)? (3333560338.py, line 2)",
     "output_type": "error",
     "traceback": [
      "\u001b[0;36m  Cell \u001b[0;32mIn[7], line 2\u001b[0;36m\u001b[0m\n\u001b[0;31m    print \"Hi! This is Python 2\"\u001b[0m\n\u001b[0m    ^\u001b[0m\n\u001b[0;31mSyntaxError\u001b[0m\u001b[0;31m:\u001b[0m Missing parentheses in call to 'print'. Did you mean print(...)?\n"
     ]
    }
   ],
   "source": [
    "def main():\n",
    "  print \"Hi! This is Python 2\"\n",
    "  \n",
    "if __name__== \"__main__\":\n",
    "  main()"
   ]
  }
 ],
 "metadata": {
  "kernelspec": {
   "display_name": "Python 3 (ipykernel)",
   "language": "python",
   "name": "python3"
  },
  "language_info": {
   "codemirror_mode": {
    "name": "ipython",
    "version": 3
   },
   "file_extension": ".py",
   "mimetype": "text/x-python",
   "name": "python",
   "nbconvert_exporter": "python",
   "pygments_lexer": "ipython3",
   "version": "3.10.9"
  },
  "vscode": {
   "interpreter": {
    "hash": "d2af68a4b51633f13995ebfae92a57b161ed6e58c9d8595f65fa30edeb049295"
   }
  }
 },
 "nbformat": 4,
 "nbformat_minor": 4
}
